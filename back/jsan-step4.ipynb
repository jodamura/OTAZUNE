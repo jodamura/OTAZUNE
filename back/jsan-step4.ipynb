{
 "cells": [
  {
   "cell_type": "code",
   "execution_count": 1,
   "id": "145290e4-54a1-4ca8-bf26-99439a9d60f7",
   "metadata": {
    "tags": []
   },
   "outputs": [],
   "source": [
    "import mysql.connector\n",
    "from mysql.connector import Error\n",
    "import os"
   ]
  },
  {
   "cell_type": "code",
   "execution_count": 7,
   "id": "ce423f7e-e08d-4643-ab87-b7470040314a",
   "metadata": {
    "tags": []
   },
   "outputs": [],
   "source": [
    "# 接続情報を設定\n",
    "host = 'tech0-db-step4-studentrdb-8.mysql.database.azure.com'\n",
    "database_username = 'tech0gen5student'\n",
    "database_password = 'vY7JZNfU8'"
   ]
  },
  {
   "cell_type": "code",
   "execution_count": 22,
   "id": "637ab007-89c9-455b-b021-a914c0652a12",
   "metadata": {
    "tags": []
   },
   "outputs": [
    {
     "data": {
      "text/plain": [
       "{'ID': 4,\n",
       " 'TourName': 'Hakone Scenic Loop with Hot Springs',\n",
       " 'RequestedDate': datetime.date(2024, 6, 12),\n",
       " 'RequestedTime': '10:00-16:00',\n",
       " 'AdultParticipants': 4,\n",
       " 'ChildrenParticipants5To12': 0,\n",
       " 'ChildrenParticipantsUnder4': 2,\n",
       " 'WheelchairAccess': 0,\n",
       " 'OtherRemarks': 'Bring swimwear',\n",
       " 'CouponCode': 'HOTSPRING25',\n",
       " 'CustomerName': 'Mia',\n",
       " 'BirthDate': datetime.date(1990, 12, 15),\n",
       " 'Country': 'United Kingdom',\n",
       " 'Email': 'miatest@example.com',\n",
       " 'PhoneNumber': '333-3333-3333',\n",
       " 'Questions': None,\n",
       " 'Requests': 'Include vegetarian lunch options'}"
      ]
     },
     "execution_count": 22,
     "metadata": {},
     "output_type": "execute_result"
    }
   ],
   "source": [
    "# url = \"https://tech0-gen-5-step4-studentwebapp-7.azurewebsites.net/product/${price}\"\n",
    "def getotazunedb():\n",
    "    # 読み込み\n",
    "    # データベースに接続\n",
    "    connection = mysql.connector.connect(host=host,\n",
    "                                         user=database_username,\n",
    "                                         password=database_password,\n",
    "                                         database='otazunedb')\n",
    "\n",
    "    # 辞書形式で結果を取得するためのcursorの作成\n",
    "    cursor = connection.cursor(dictionary=True)\n",
    "\n",
    "    # sql = \"SELECT * FROM `tourreservation` WHERE `price`=%s\"\n",
    "    sql = \"SELECT * FROM `tourreservation`\"\n",
    "    # cursor.execute(sql, (testprice,))\n",
    "    cursor.execute(sql,)\n",
    "    # 全ての行を取得\n",
    "    results = cursor.fetchall()\n",
    "    # cursorを閉じる\n",
    "    cursor.close()\n",
    "    # データベース接続を閉じる\n",
    "    connection.close()\n",
    "    return results\n",
    "\n",
    "res = getotazunedb()\n",
    "# res[1][\"ID\"]\n",
    "res[3]"
   ]
  },
  {
   "cell_type": "code",
   "execution_count": null,
   "id": "a486f9b4-f82e-4326-900e-2f4c153434ae",
   "metadata": {},
   "outputs": [],
   "source": []
  }
 ],
 "metadata": {
  "kernelspec": {
   "display_name": "python3.11 for TEST",
   "language": "python",
   "name": "py311_testapp"
  },
  "language_info": {
   "codemirror_mode": {
    "name": "ipython",
    "version": 3
   },
   "file_extension": ".py",
   "mimetype": "text/x-python",
   "name": "python",
   "nbconvert_exporter": "python",
   "pygments_lexer": "ipython3",
   "version": "3.11.8"
  }
 },
 "nbformat": 4,
 "nbformat_minor": 5
}
