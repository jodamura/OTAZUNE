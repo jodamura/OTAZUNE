{
 "cells": [
  {
   "cell_type": "code",
   "execution_count": 4,
   "metadata": {},
   "outputs": [],
   "source": [
    "import mysql.connector\n",
    "import pandas as pd\n",
    "\n",
    "# CSVファイルのパスS\n",
    "file_path = 'suggestion_db.csv'\n",
    "# CSVファイルをDataFrameとして読み込み\n",
    "data = pd.read_csv(file_path)\n",
    "\n",
    "# データベース接続設定\n",
    "MYSQL_SERVER = 'tech0-db-step4-studentrdb-8.mysql.database.azure.com'\n",
    "MYSQL_USER = 'tech0gen5student'\n",
    "MYSQL_PASSWORD = 'vY7JZNfU8'\n",
    "MYSQL_DB = 'otazunedb'\n",
    "TABLE_NAME = 'suggestions_db'\n",
    "\n",
    "# データベースに接続\n",
    "conn = mysql.connector.connect(\n",
    "    host=MYSQL_SERVER,\n",
    "    user=MYSQL_USER,\n",
    "    password=MYSQL_PASSWORD,\n",
    "    database=MYSQL_DB,\n",
    "    raise_on_warnings=True\n",
    ")\n",
    "\n",
    "cursor = conn.cursor()\n"
   ]
  },
  {
   "cell_type": "code",
   "execution_count": 5,
   "metadata": {},
   "outputs": [],
   "source": [
    "# テーブル名を指定\n",
    "table_name = 'suggestion_db'\n",
    "\n",
    "# DaStaFrameのデータをMySQLに書き込む\n",
    "for index, row in data.iterrows():\n",
    "    sql = f\"INSERT INTO {table_name} (ID, suggestiondate, suggester, mailaddress, suggestion) VALUES (%s, %s, %s, %s, %s)\"\n",
    "    \n",
    "    # DataFrameから必要なデータを正しい順序でタプルとして取得\n",
    "    values = (\n",
    "        row['ID'], \n",
    "        row['suggestiondate'], \n",
    "        row['suggester'], \n",
    "        row['mailaddress'], \n",
    "        row['suggestion']\n",
    "    )\n",
    "    \n",
    "    cursor.execute(sql, values)  # SQLクエリを実行\n",
    "    conn.commit()  # トランザクションをコミット\n",
    "\n",
    "# 接続を閉じる\n",
    "cursor.close()\n",
    "conn.close()\n"
   ]
  }
 ],
 "metadata": {
  "kernelspec": {
   "display_name": "Python 3",
   "language": "python",
   "name": "python3"
  },
  "language_info": {
   "codemirror_mode": {
    "name": "ipython",
    "version": 3
   },
   "file_extension": ".py",
   "mimetype": "text/x-python",
   "name": "python",
   "nbconvert_exporter": "python",
   "pygments_lexer": "ipython3",
   "version": "3.12.2"
  }
 },
 "nbformat": 4,
 "nbformat_minor": 2
}
